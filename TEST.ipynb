{
 "cells": [
  {
   "cell_type": "code",
   "execution_count": 11,
   "id": "49fefd9b",
   "metadata": {},
   "outputs": [
    {
     "name": "stdout",
     "output_type": "stream",
     "text": [
      "tensor([[ 1.,  0., -1., -1.],\n",
      "        [ 0.,  1., -1., -1.],\n",
      "        [-1., -1., -1., -1.],\n",
      "        [-1., -1., -1., -1.]])\n"
     ]
    }
   ],
   "source": [
    "import torch\n",
    "\n",
    "labels = torch.tensor([1, 2, -1, -1])\n",
    "sim = torch.rand(4, 4)\n",
    "global_R = torch.full((labels.size(0), labels.size(0)), -1.0)\n",
    "mask_label = (labels != -1)\n",
    "label_mask = mask_label.unsqueeze(0) & mask_label.unsqueeze(1)\n",
    "label_R = (labels.unsqueeze(0) == labels.unsqueeze(1)).float()\n",
    "global_R[label_mask] = label_R[label_mask]\n",
    "\n",
    "print(global_R)"
   ]
  },
  {
   "cell_type": "code",
   "execution_count": 12,
   "id": "58a541a7",
   "metadata": {},
   "outputs": [
    {
     "name": "stdout",
     "output_type": "stream",
     "text": [
      "tensor([[0.1877, 0.4130, 0.5019, 0.4840],\n",
      "        [0.1811, 0.6732, 0.4352, 0.5160],\n",
      "        [0.1859, 0.0105, 0.9525, 0.8025],\n",
      "        [0.5501, 0.6766, 0.8671, 0.9637]])\n",
      "tensor([[ 1.,  0., -1.,  0.],\n",
      "        [ 0.,  1.,  0., -1.],\n",
      "        [ 0.,  0.,  1., -1.],\n",
      "        [-1., -1., -1.,  1.]])\n"
     ]
    }
   ],
   "source": [
    "other_mask = ~label_mask\n",
    "l, u = 0.5, 0.9\n",
    "global_R[other_mask & (sim >= u)] = torch.tensor(1.0)\n",
    "global_R[other_mask & (sim <= l)] = torch.tensor(0.0)\n",
    "print(sim)\n",
    "print(global_R)"
   ]
  },
  {
   "cell_type": "code",
   "execution_count": 14,
   "id": "085cbc49",
   "metadata": {},
   "outputs": [
    {
     "name": "stdout",
     "output_type": "stream",
     "text": [
      "[[3, 0], [3, 1], [3, 2]]\n"
     ]
    }
   ],
   "source": [
    "uncert_mask = (global_R == -1)\n",
    "mask = torch.tril(uncert_mask, diagonal=-1)\n",
    "row, col = torch.where(mask)\n",
    "uncert_ij = torch.stack([row, col], dim=1).tolist()\n",
    "print(uncert_ij)"
   ]
  }
 ],
 "metadata": {
  "kernelspec": {
   "display_name": "hf_learning_310",
   "language": "python",
   "name": "python3"
  },
  "language_info": {
   "codemirror_mode": {
    "name": "ipython",
    "version": 3
   },
   "file_extension": ".py",
   "mimetype": "text/x-python",
   "name": "python",
   "nbconvert_exporter": "python",
   "pygments_lexer": "ipython3",
   "version": "3.10.0"
  }
 },
 "nbformat": 4,
 "nbformat_minor": 5
}
