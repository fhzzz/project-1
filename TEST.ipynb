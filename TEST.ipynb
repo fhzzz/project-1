{
 "cells": [
  {
   "cell_type": "code",
   "execution_count": 2,
   "id": "49fefd9b",
   "metadata": {},
   "outputs": [
    {
     "name": "stdout",
     "output_type": "stream",
     "text": [
      "tensor([[ True,  True, False, False]]) \n",
      " tensor([[ True],\n",
      "        [ True],\n",
      "        [False],\n",
      "        [False]])\n",
      "tensor([[ 1.,  0., -1., -1.],\n",
      "        [ 0.,  1., -1., -1.],\n",
      "        [-1., -1., -1., -1.],\n",
      "        [-1., -1., -1., -1.]])\n"
     ]
    }
   ],
   "source": [
    "import torch\n",
    "\n",
    "labels = torch.tensor([1, 2, -1, -1])\n",
    "sim = torch.rand(4, 4)\n",
    "global_R = torch.full((labels.size(0), labels.size(0)), -1.0)\n",
    "mask_label = (labels != -1)\n",
    "label_mask = mask_label.unsqueeze(0) & mask_label.unsqueeze(1)\n",
    "label_R = (labels.unsqueeze(0) == labels.unsqueeze(1)).float()\n",
    "global_R[label_mask] = label_R[label_mask]\n",
    "\n",
    "print(mask_label.unsqueeze(0), '\\n', mask_label.unsqueeze(1))\n",
    "print(global_R)"
   ]
  },
  {
   "cell_type": "markdown",
   "id": "8c33dc44",
   "metadata": {},
   "source": [
    "从上面的输出结果可以看到，`.unsqueeze()`是在指定参数上增加维度"
   ]
  },
  {
   "cell_type": "code",
   "execution_count": 3,
   "id": "58a541a7",
   "metadata": {},
   "outputs": [
    {
     "name": "stdout",
     "output_type": "stream",
     "text": [
      "tensor([[0.6492, 0.4178, 0.8429, 0.9125],\n",
      "        [0.7845, 0.0042, 0.6734, 0.1992],\n",
      "        [0.1857, 0.5591, 0.9462, 0.7340],\n",
      "        [0.7992, 0.5766, 0.3201, 0.8229]])\n",
      "tensor([[ 1.,  0., -1.,  1.],\n",
      "        [ 0.,  1., -1.,  0.],\n",
      "        [ 0., -1.,  1., -1.],\n",
      "        [-1., -1.,  0., -1.]])\n"
     ]
    }
   ],
   "source": [
    "other_mask = ~label_mask\n",
    "l, u = 0.5, 0.9\n",
    "global_R[other_mask & (sim >= u)] = torch.tensor(1.0)\n",
    "global_R[other_mask & (sim <= l)] = torch.tensor(0.0)\n",
    "print(sim)\n",
    "print(global_R)"
   ]
  },
  {
   "cell_type": "code",
   "execution_count": 4,
   "id": "085cbc49",
   "metadata": {},
   "outputs": [
    {
     "name": "stdout",
     "output_type": "stream",
     "text": [
      "[[2, 1], [3, 0], [3, 1]]\n"
     ]
    }
   ],
   "source": [
    "uncert_mask = (global_R == -1)\n",
    "mask = torch.tril(uncert_mask, diagonal=-1)\n",
    "row, col = torch.where(mask)\n",
    "uncert_ij = torch.stack([row, col], dim=1).tolist()\n",
    "print(uncert_ij)"
   ]
  },
  {
   "cell_type": "markdown",
   "id": "22b35173",
   "metadata": {},
   "source": [
    "## 1010\n",
    "- 学习`unsqueeze()`"
   ]
  },
  {
   "cell_type": "code",
   "execution_count": null,
   "id": "abfd2963",
   "metadata": {},
   "outputs": [],
   "source": []
  }
 ],
 "metadata": {
  "kernelspec": {
   "display_name": "Python 3.12.7 ('FirstProject')",
   "language": "python",
   "name": "python3"
  },
  "language_info": {
   "codemirror_mode": {
    "name": "ipython",
    "version": 3
   },
   "file_extension": ".py",
   "mimetype": "text/x-python",
   "name": "python",
   "nbconvert_exporter": "python",
   "pygments_lexer": "ipython3",
   "version": "3.12.11"
  },
  "vscode": {
   "interpreter": {
    "hash": "2e4507e9157fb9640cc464312bd6f907637c6c68d9e4e41d96c3e219e3805894"
   }
  }
 },
 "nbformat": 4,
 "nbformat_minor": 5
}
